{
 "cells": [
  {
   "cell_type": "markdown",
   "metadata": {},
   "source": [
    "## MCCP Usage example\n",
    "\n",
    "In this example we will be capturing images of a rubber duck from four angles and run anomaly detection on the images. (???)"
   ]
  },
  {
   "cell_type": "code",
   "execution_count": 3,
   "metadata": {},
   "outputs": [],
   "source": [
    "import sys\n",
    "sys.path.insert(0, \"../src/multicamcomposepro\") # this can be replaced with pip install mmcp + import mccp\n",
    "from utils import Warehouse\n",
    "\n",
    "CAPTURE_OBJECT_NAME = \"Purple Rubber Duck\" # This is the lil duck we want to run anomaly detection on. <insert image of lil ducky>"
   ]
  },
  {
   "cell_type": "markdown",
   "metadata": {},
   "source": [
    "## Set up a data warehouse\n",
    "\n",
    "The warehouse sets up a *convenient* file structure for storing our images for human reference."
   ]
  },
  {
   "cell_type": "code",
   "execution_count": 4,
   "metadata": {},
   "outputs": [
    {
     "name": "stdout",
     "output_type": "stream",
     "text": [
      "Purple_Rubber_Duck\n",
      " ┣ test\n",
      " ┃ ┣ good\n",
      " ┃ ┣ tape\n",
      " ┃ ┗ discolored\n",
      " ┗ train\n",
      " ┃ ┗ good\n",
      "\n"
     ]
    }
   ],
   "source": [
    "warehouse = Warehouse()\n",
    "warehouse.build(CAPTURE_OBJECT_NAME, [\"tape\", \"discolored\"])\n",
    "\n",
    "print(warehouse)\n",
    "\n",
    "# Todo fix filestructure __str__ - should print a nice tree:\n",
    "\n",
    "# data_warehouse\n",
    "#  ┗ dataset\n",
    "#  ┃ ┗ my_purple_duck\n",
    "#  ┃ ┃ ┣ test\n",
    "#  ┃ ┃ ┃ ┣ discolored\n",
    "#  ┃ ┃ ┃ ┣ good\n",
    "#  ┃ ┃ ┃ ┗ tape\n",
    "#  ┃ ┃ ┗ train\n",
    "#  ┃ ┃ ┃ ┗ good"
   ]
  },
  {
   "cell_type": "markdown",
   "metadata": {},
   "source": [
    "## Identify and config all cameras"
   ]
  },
  {
   "cell_type": "markdown",
   "metadata": {},
   "source": [
    "We run CameraIdentifier to find and verify a datastream from all connected cameras"
   ]
  },
  {
   "cell_type": "code",
   "execution_count": 5,
   "metadata": {},
   "outputs": [
    {
     "name": "stdout",
     "output_type": "stream",
     "text": [
      "CameraManager cancelled.\n"
     ]
    },
    {
     "data": {
      "text/plain": [
       "<utils.CameraConfigurator at 0x1063aa980>"
      ]
     },
     "execution_count": 5,
     "metadata": {},
     "output_type": "execute_result"
    }
   ],
   "source": [
    "from utils import CameraConfigurator\n",
    "CameraConfigurator()"
   ]
  },
  {
   "cell_type": "code",
   "execution_count": 6,
   "metadata": {},
   "outputs": [],
   "source": [
    "# TODO fix kernel crash when continue from CameraCondfigurator - This is caused when cv2.imshow window is closed after the code has finished."
   ]
  },
  {
   "cell_type": "markdown",
   "metadata": {},
   "source": [
    "## Capture images using camera_manager"
   ]
  },
  {
   "cell_type": "code",
   "execution_count": 7,
   "metadata": {},
   "outputs": [
    {
     "name": "stdout",
     "output_type": "stream",
     "text": [
      "Debug: Sorted Camera Angles: ['Front']\n"
     ]
    }
   ],
   "source": [
    "from camera import CameraManager\n",
    "camera_manager = CameraManager(warehouse, 2, 3)"
   ]
  },
  {
   "cell_type": "code",
   "execution_count": 8,
   "metadata": {},
   "outputs": [
    {
     "name": "stdout",
     "output_type": "stream",
     "text": [
      "['tape', 'discolored']\n",
      "Camera 0 initializing...\n"
     ]
    },
    {
     "name": "stderr",
     "output_type": "stream",
     "text": [
      "INFO:root:Saved image /Users/helvetica/_mccp/mccp/notebooks/data_warehouse/dataset/Purple_Rubber_Duck/train/good/Front/000.png\n",
      "INFO:root:Saved image /Users/helvetica/_mccp/mccp/notebooks/data_warehouse/dataset/Purple_Rubber_Duck/train/good/Front/001.png\n",
      "INFO:root:Saved image /Users/helvetica/_mccp/mccp/notebooks/data_warehouse/dataset/Purple_Rubber_Duck/train/good/Front/002.png\n",
      "INFO:root:Captured images for good object in train folder.\n",
      "INFO:root:Saved image /Users/helvetica/_mccp/mccp/notebooks/data_warehouse/dataset/Purple_Rubber_Duck/test/good/Front/000.png\n",
      "INFO:root:Saved image /Users/helvetica/_mccp/mccp/notebooks/data_warehouse/dataset/Purple_Rubber_Duck/test/good/Front/001.png\n",
      "INFO:root:Captured images for good object in test folder.\n",
      "INFO:root:Saved image /Users/helvetica/_mccp/mccp/notebooks/data_warehouse/dataset/Purple_Rubber_Duck/test/tape/Front/000.png\n",
      "INFO:root:Saved image /Users/helvetica/_mccp/mccp/notebooks/data_warehouse/dataset/Purple_Rubber_Duck/test/tape/Front/001.png\n",
      "INFO:root:Captured images for anomaly: tape\n",
      "INFO:root:Saved image /Users/helvetica/_mccp/mccp/notebooks/data_warehouse/dataset/Purple_Rubber_Duck/test/discolored/Front/000.png\n",
      "INFO:root:Saved image /Users/helvetica/_mccp/mccp/notebooks/data_warehouse/dataset/Purple_Rubber_Duck/test/discolored/Front/001.png\n",
      "INFO:root:Captured images for anomaly: discolored\n"
     ]
    },
    {
     "name": "stdout",
     "output_type": "stream",
     "text": [
      "Done.\n"
     ]
    }
   ],
   "source": [
    "camera_manager.run()"
   ]
  },
  {
   "cell_type": "markdown",
   "metadata": {},
   "source": [
    "## Extend database with augmentations"
   ]
  },
  {
   "cell_type": "code",
   "execution_count": 9,
   "metadata": {},
   "outputs": [
    {
     "name": "stderr",
     "output_type": "stream",
     "text": [
      "INFO:root:Processing 002.png in cam_0_left\n",
      "INFO:root:Augmenting 002.png. Iteration: 0\n",
      "INFO:root:Iter. 0: 002.png - RGB vals: R: 1.145, G: 0.880, B: 0.996\n",
      "INFO:root:Iter. 0: 002.png - Exposure: 1.705124989604674\n",
      "INFO:root:Iter. 0: 002.png - Rotation: -6.994172701000495\n",
      "INFO:root:Iter. 0: 002.png - Perspect: [[1.0976375  0.         0.        ]\n",
      " [0.         0.93504477 0.        ]]\n",
      "INFO:root:Iter. 0: 002.png - Blur rad: 0.91467\n",
      "INFO:root:Augmenting 002.png. Iteration: 1\n",
      "INFO:root:Iter. 1: 002.png - RGB vals: R: 1.030, G: 1.017, B: 0.920\n",
      "INFO:root:Iter. 1: 002.png - Exposure: 1.825920233465352\n",
      "INFO:root:Iter. 1: 002.png - Rotation: 6.812304314309285\n",
      "INFO:root:Iter. 1: 002.png - Perspect: [[0.7983854 0.        0.       ]\n",
      " [0.        1.0028234 0.       ]]\n",
      "INFO:root:Iter. 1: 002.png - Blur rad: 0.73401\n",
      "INFO:root:Augmenting 002.png. Iteration: 2\n",
      "INFO:root:Iter. 2: 002.png - RGB vals: R: 1.124, G: 0.813, B: 0.878\n",
      "INFO:root:Iter. 2: 002.png - Exposure: 1.7474851720302729\n",
      "INFO:root:Iter. 2: 002.png - Rotation: -6.928485648691002\n",
      "INFO:root:Iter. 2: 002.png - Perspect: [[0.8968612 0.        0.       ]\n",
      " [0.        1.1045631 0.       ]]\n",
      "INFO:root:Iter. 2: 002.png - Blur rad: 0.69940\n",
      "INFO:root:Processing 001.png in cam_0_left\n",
      "INFO:root:Augmenting 001.png. Iteration: 0\n",
      "INFO:root:Iter. 0: 001.png - RGB vals: R: 1.084, G: 0.962, B: 0.784\n",
      "INFO:root:Iter. 0: 001.png - Exposure: 1.6018904685216926\n",
      "INFO:root:Iter. 0: 001.png - Rotation: 0.7535978112267063\n",
      "INFO:root:Iter. 0: 001.png - Perspect: [[1.0270609 0.        0.       ]\n",
      " [0.        0.9332365 0.       ]]\n",
      "INFO:root:Iter. 0: 001.png - Blur rad: 0.30571\n"
     ]
    },
    {
     "name": "stdout",
     "output_type": "stream",
     "text": [
      "augment_images_running\n",
      "Resolution set to: (480, 640)\n",
      "002.png\n",
      "Image shape: (480, 640, 3)\n",
      "Resolution: (480, 640)\n",
      "Resolution set to: (480, 640)\n",
      "001.png\n"
     ]
    },
    {
     "name": "stderr",
     "output_type": "stream",
     "text": [
      "INFO:root:Augmenting 001.png. Iteration: 1\n",
      "INFO:root:Iter. 1: 001.png - RGB vals: R: 1.165, G: 0.860, B: 0.813\n",
      "INFO:root:Iter. 1: 001.png - Exposure: 1.957083234098394\n",
      "INFO:root:Iter. 1: 001.png - Rotation: -3.7304827676880254\n",
      "INFO:root:Iter. 1: 001.png - Perspect: [[0.8170354 0.        0.       ]\n",
      " [0.        1.1890821 0.       ]]\n",
      "INFO:root:Iter. 1: 001.png - Blur rad: 0.70450\n",
      "INFO:root:Augmenting 001.png. Iteration: 2\n",
      "INFO:root:Iter. 2: 001.png - RGB vals: R: 1.090, G: 0.919, B: 0.909\n",
      "INFO:root:Iter. 2: 001.png - Exposure: 1.784733635494927\n",
      "INFO:root:Iter. 2: 001.png - Rotation: -4.487926983738243\n",
      "INFO:root:Iter. 2: 001.png - Perspect: [[0.94651115 0.         0.        ]\n",
      " [0.         1.0828377  0.        ]]\n",
      "INFO:root:Iter. 2: 001.png - Blur rad: 0.97532\n",
      "INFO:root:Processing 000.png in cam_0_left\n",
      "INFO:root:Augmenting 000.png. Iteration: 0\n",
      "INFO:root:Iter. 0: 000.png - RGB vals: R: 1.070, G: 0.909, B: 0.844\n",
      "INFO:root:Iter. 0: 000.png - Exposure: 1.7904910718862326\n",
      "INFO:root:Iter. 0: 000.png - Rotation: 1.9976894756875971\n",
      "INFO:root:Iter. 0: 000.png - Perspect: [[0.8509975 0.        0.       ]\n",
      " [0.        1.0454322 0.       ]]\n",
      "INFO:root:Iter. 0: 000.png - Blur rad: 0.40432\n",
      "INFO:root:Augmenting 000.png. Iteration: 1\n",
      "INFO:root:Iter. 1: 000.png - RGB vals: R: 1.169, G: 0.833, B: 1.008\n",
      "INFO:root:Iter. 1: 000.png - Exposure: 1.83242354174125\n",
      "INFO:root:Iter. 1: 000.png - Rotation: -3.4989104625165055\n",
      "INFO:root:Iter. 1: 000.png - Perspect: [[1.1989996  0.         0.        ]\n",
      " [0.         0.88984126 0.        ]]\n",
      "INFO:root:Iter. 1: 000.png - Blur rad: 0.15753\n",
      "INFO:root:Augmenting 000.png. Iteration: 2\n",
      "INFO:root:Iter. 2: 000.png - RGB vals: R: 1.022, G: 1.019, B: 0.979\n",
      "INFO:root:Iter. 2: 000.png - Exposure: 1.6676829556450947\n",
      "INFO:root:Iter. 2: 000.png - Rotation: -2.565651139195576\n",
      "INFO:root:Iter. 2: 000.png - Perspect: [[1.0243677 0.        0.       ]\n",
      " [0.        1.050113  0.       ]]\n",
      "INFO:root:Iter. 2: 000.png - Blur rad: 0.13422\n",
      "INFO:root:Processing 002.png in Front\n",
      "INFO:root:Augmenting 002.png. Iteration: 0\n",
      "INFO:root:Iter. 0: 002.png - RGB vals: R: 1.075, G: 0.808, B: 0.855\n",
      "INFO:root:Iter. 0: 002.png - Exposure: 1.9699987236487402\n",
      "INFO:root:Iter. 0: 002.png - Rotation: -0.5043502065173362\n",
      "INFO:root:Iter. 0: 002.png - Perspect: [[1.1135725 0.        0.       ]\n",
      " [0.        1.0690111 0.       ]]\n",
      "INFO:root:Iter. 0: 002.png - Blur rad: 0.87167\n",
      "INFO:root:Augmenting 002.png. Iteration: 1\n",
      "INFO:root:Iter. 1: 002.png - RGB vals: R: 1.070, G: 0.948, B: 0.843\n",
      "INFO:root:Iter. 1: 002.png - Exposure: 1.829163732112383\n",
      "INFO:root:Iter. 1: 002.png - Rotation: 9.818403652052918\n",
      "INFO:root:Iter. 1: 002.png - Perspect: [[1.1425825  0.         0.        ]\n",
      " [0.         0.84438443 0.        ]]\n",
      "INFO:root:Iter. 1: 002.png - Blur rad: 0.13643\n",
      "INFO:root:Augmenting 002.png. Iteration: 2\n",
      "INFO:root:Iter. 2: 002.png - RGB vals: R: 1.060, G: 0.812, B: 0.856\n",
      "INFO:root:Iter. 2: 002.png - Exposure: 1.7194181567642368\n",
      "INFO:root:Iter. 2: 002.png - Rotation: 3.8324405341204972\n",
      "INFO:root:Iter. 2: 002.png - Perspect: [[0.82610226 0.         0.        ]\n",
      " [0.         0.9829803  0.        ]]\n",
      "INFO:root:Iter. 2: 002.png - Blur rad: 0.15113\n"
     ]
    },
    {
     "name": "stdout",
     "output_type": "stream",
     "text": [
      "Image shape: (480, 640, 3)\n",
      "Resolution: (480, 640)\n",
      "Resolution set to: (480, 640)\n",
      "000.png\n",
      "Image shape: (480, 640, 3)\n",
      "Resolution: (480, 640)\n",
      "Resolution set to: (480, 640)\n",
      "002.png\n"
     ]
    },
    {
     "name": "stderr",
     "output_type": "stream",
     "text": [
      "INFO:root:Processing 001.png in Front\n",
      "INFO:root:Augmenting 001.png. Iteration: 0\n",
      "INFO:root:Iter. 0: 001.png - RGB vals: R: 1.066, G: 0.936, B: 1.008\n",
      "INFO:root:Iter. 0: 001.png - Exposure: 1.6732103411402943\n",
      "INFO:root:Iter. 0: 001.png - Rotation: 9.921598685508759\n",
      "INFO:root:Iter. 0: 001.png - Perspect: [[0.90704906 0.         0.        ]\n",
      " [0.         0.8625355  0.        ]]\n",
      "INFO:root:Iter. 0: 001.png - Blur rad: 0.78802\n",
      "INFO:root:Augmenting 001.png. Iteration: 1\n",
      "INFO:root:Iter. 1: 001.png - RGB vals: R: 1.164, G: 0.906, B: 0.942\n",
      "INFO:root:Iter. 1: 001.png - Exposure: 1.9261528309996283\n",
      "INFO:root:Iter. 1: 001.png - Rotation: 9.291400292936824\n",
      "INFO:root:Iter. 1: 001.png - Perspect: [[0.8631315 0.        0.       ]\n",
      " [0.        1.1195662 0.       ]]\n",
      "INFO:root:Iter. 1: 001.png - Blur rad: 0.91032\n",
      "INFO:root:Augmenting 001.png. Iteration: 2\n",
      "INFO:root:Iter. 2: 001.png - RGB vals: R: 1.022, G: 0.806, B: 0.783\n",
      "INFO:root:Iter. 2: 001.png - Exposure: 1.7409707735180384\n",
      "INFO:root:Iter. 2: 001.png - Rotation: -0.8329774348730155\n",
      "INFO:root:Iter. 2: 001.png - Perspect: [[0.9055588 0.        0.       ]\n",
      " [0.        0.8356599 0.       ]]\n",
      "INFO:root:Iter. 2: 001.png - Blur rad: 0.83969\n",
      "INFO:root:Processing 000.png in Front\n",
      "INFO:root:Augmenting 000.png. Iteration: 0\n",
      "INFO:root:Iter. 0: 000.png - RGB vals: R: 1.060, G: 0.957, B: 0.915\n",
      "INFO:root:Iter. 0: 000.png - Exposure: 1.898128735113067\n",
      "INFO:root:Iter. 0: 000.png - Rotation: 8.433753094181835\n",
      "INFO:root:Iter. 0: 000.png - Perspect: [[0.91793513 0.         0.        ]\n",
      " [0.         0.96325105 0.        ]]\n",
      "INFO:root:Iter. 0: 000.png - Blur rad: 0.78598\n",
      "INFO:root:Augmenting 000.png. Iteration: 1\n",
      "INFO:root:Iter. 1: 000.png - RGB vals: R: 1.141, G: 0.890, B: 0.905\n",
      "INFO:root:Iter. 1: 000.png - Exposure: 1.8448360253681604\n",
      "INFO:root:Iter. 1: 000.png - Rotation: 2.622004069084106\n",
      "INFO:root:Iter. 1: 000.png - Perspect: [[0.983047  0.        0.       ]\n",
      " [0.        1.1260356 0.       ]]\n",
      "INFO:root:Iter. 1: 000.png - Blur rad: 0.67792\n",
      "INFO:root:Augmenting 000.png. Iteration: 2\n",
      "INFO:root:Iter. 2: 000.png - RGB vals: R: 1.023, G: 0.899, B: 0.938\n",
      "INFO:root:Iter. 2: 000.png - Exposure: 1.5882822026415795\n",
      "INFO:root:Iter. 2: 000.png - Rotation: -2.3229459138001722\n",
      "INFO:root:Iter. 2: 000.png - Perspect: [[1.1415436 0.        0.       ]\n",
      " [0.        0.9098073 0.       ]]\n",
      "INFO:root:Iter. 2: 000.png - Blur rad: 0.33103\n"
     ]
    },
    {
     "name": "stdout",
     "output_type": "stream",
     "text": [
      "Image shape: (480, 640, 3)\n",
      "Resolution: (480, 640)\n",
      "Resolution set to: (480, 640)\n",
      "001.png\n",
      "Image shape: (480, 640, 3)\n",
      "Resolution: (480, 640)\n",
      "Resolution set to: (480, 640)\n",
      "000.png\n",
      "Image shape: (480, 640, 3)\n",
      "Resolution: (480, 640)\n",
      "Data augmentation complete.\n"
     ]
    }
   ],
   "source": [
    "from augment import DataAugmenter # Should be called augmentOR?\n",
    "augmenter = DataAugmenter(CAPTURE_OBJECT_NAME, temperature=10, logging_enabled=False)\n",
    "augmenter.augment_images()  # Pass selected_images if needed"
   ]
  }
 ],
 "metadata": {
  "kernelspec": {
   "display_name": "Python 3",
   "language": "python",
   "name": "python3"
  },
  "language_info": {
   "codemirror_mode": {
    "name": "ipython",
    "version": 3
   },
   "file_extension": ".py",
   "mimetype": "text/x-python",
   "name": "python",
   "nbconvert_exporter": "python",
   "pygments_lexer": "ipython3",
   "version": "3.10.10"
  }
 },
 "nbformat": 4,
 "nbformat_minor": 2
}
