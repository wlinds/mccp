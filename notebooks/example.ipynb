{
 "cells": [
  {
   "cell_type": "markdown",
   "metadata": {},
   "source": [
    "## MCCP Usage example\n",
    "\n",
    "In this example we will be capturing images of a rubber duck from four angles and run anomaly detection on the images. (???)"
   ]
  },
  {
   "cell_type": "code",
   "execution_count": 1,
   "metadata": {},
   "outputs": [],
   "source": [
    "import sys\n",
    "sys.path.insert(0, \"../src/multicamcomposepro\") # this can be replaced with pip install mmcp + import mccp\n",
    "from utils import Warehouse\n",
    "\n",
    "CAPTURE_OBJECT_NAME = \"Purple Rubber Duck\" # This is the lil duck we want to run anomaly detection on. <insert image of lil ducky>"
   ]
  },
  {
   "cell_type": "markdown",
   "metadata": {},
   "source": [
    "## Set up a data warehouse\n",
    "\n",
    "The warehouse sets up a *convenient* file structure for storing our images for human reference."
   ]
  },
  {
   "cell_type": "code",
   "execution_count": 2,
   "metadata": {},
   "outputs": [
    {
     "name": "stdout",
     "output_type": "stream",
     "text": [
      "Directory Purple_Rubber_Duck already exists! Nothing has been created.\n"
     ]
    }
   ],
   "source": [
    "warehouse = Warehouse()\n",
    "warehouse.build(CAPTURE_OBJECT_NAME, [\"tape\", \"discolored\"])\n",
    "\n",
    "print(warehouse)\n",
    "\n",
    "# Todo fix filestructure __str__ - should print a nice tree:\n",
    "\n",
    "# data_warehouse\n",
    "#  ┗ dataset\n",
    "#  ┃ ┗ my_purple_duck\n",
    "#  ┃ ┃ ┣ test\n",
    "#  ┃ ┃ ┃ ┣ discolored\n",
    "#  ┃ ┃ ┃ ┣ good\n",
    "#  ┃ ┃ ┃ ┗ tape\n",
    "#  ┃ ┃ ┗ train\n",
    "#  ┃ ┃ ┃ ┗ good"
   ]
  },
  {
   "cell_type": "markdown",
   "metadata": {},
   "source": [
    "## Identify and config all cameras"
   ]
  },
  {
   "cell_type": "markdown",
   "metadata": {},
   "source": [
    "We run CameraIdentifier to find and verify a datastream from all connected cameras"
   ]
  },
  {
   "cell_type": "code",
   "execution_count": 3,
   "metadata": {},
   "outputs": [
    {
     "name": "stdout",
     "output_type": "stream",
     "text": [
      "CameraIdentifier cancelled.\n"
     ]
    },
    {
     "data": {
      "text/plain": [
       "<utils.CameraIdentifier at 0x10d3a9c00>"
      ]
     },
     "execution_count": 3,
     "metadata": {},
     "output_type": "execute_result"
    }
   ],
   "source": [
    "from utils import CameraIdentifier\n",
    "CameraIdentifier()"
   ]
  },
  {
   "cell_type": "code",
   "execution_count": 4,
   "metadata": {},
   "outputs": [
    {
     "name": "stdout",
     "output_type": "stream",
     "text": [
      "Keybind Adjusts:\n",
      "\n",
      "Exposure keys: [1/2]\n",
      "Color temp keys: [4/5]\n",
      "Continue: Q\n"
     ]
    }
   ],
   "source": [
    "from utils import CameraConfigurator\n",
    "CameraConfigurator().run()"
   ]
  },
  {
   "cell_type": "code",
   "execution_count": 5,
   "metadata": {},
   "outputs": [],
   "source": [
    "# TODO fix kernel crash when continue from CameraCondfigurator - This is caused when cv2.imshow window is closed after the code has finished."
   ]
  },
  {
   "cell_type": "markdown",
   "metadata": {},
   "source": [
    "## Capture images using camera_manager"
   ]
  },
  {
   "cell_type": "code",
   "execution_count": 6,
   "metadata": {},
   "outputs": [
    {
     "name": "stdout",
     "output_type": "stream",
     "text": [
      "Debug: Sorted Camera Angles: ['cam_0_left', 'skip', None, None, None, None, None, None, None, None, None]\n"
     ]
    }
   ],
   "source": [
    "from camera import CameraManager\n",
    "camera_manager = CameraManager(warehouse, 2, 3)"
   ]
  },
  {
   "cell_type": "code",
   "execution_count": 7,
   "metadata": {},
   "outputs": [
    {
     "name": "stdout",
     "output_type": "stream",
     "text": [
      "['tape', 'discolored']\n",
      "Camera 0 initializing...\n",
      "Camera 1 initializing...\n"
     ]
    },
    {
     "name": "stderr",
     "output_type": "stream",
     "text": [
      "INFO:root:Saved image /Users/helvetica/_mccp/mccp/notebooks/data_warehouse/dataset/Purple_Rubber_Duck/train/good/cam_0_left/000.png\n",
      "INFO:root:Saved image /Users/helvetica/_mccp/mccp/notebooks/data_warehouse/dataset/Purple_Rubber_Duck/train/good/cam_0_left/001.png\n",
      "INFO:root:Saved image /Users/helvetica/_mccp/mccp/notebooks/data_warehouse/dataset/Purple_Rubber_Duck/train/good/cam_0_left/002.png\n",
      "INFO:root:Captured images for good object in train folder.\n",
      "INFO:root:Saved image /Users/helvetica/_mccp/mccp/notebooks/data_warehouse/dataset/Purple_Rubber_Duck/test/good/cam_0_left/000.png\n",
      "INFO:root:Saved image /Users/helvetica/_mccp/mccp/notebooks/data_warehouse/dataset/Purple_Rubber_Duck/test/good/cam_0_left/001.png\n",
      "INFO:root:Captured images for good object in test folder.\n",
      "INFO:root:Saved image /Users/helvetica/_mccp/mccp/notebooks/data_warehouse/dataset/Purple_Rubber_Duck/test/tape/cam_0_left/000.png\n",
      "INFO:root:Saved image /Users/helvetica/_mccp/mccp/notebooks/data_warehouse/dataset/Purple_Rubber_Duck/test/tape/cam_0_left/001.png\n",
      "INFO:root:Captured images for anomaly: tape\n",
      "INFO:root:Saved image /Users/helvetica/_mccp/mccp/notebooks/data_warehouse/dataset/Purple_Rubber_Duck/test/discolored/cam_0_left/000.png\n",
      "INFO:root:Saved image /Users/helvetica/_mccp/mccp/notebooks/data_warehouse/dataset/Purple_Rubber_Duck/test/discolored/cam_0_left/001.png\n",
      "INFO:root:Captured images for anomaly: discolored\n"
     ]
    },
    {
     "name": "stdout",
     "output_type": "stream",
     "text": [
      "Done.\n"
     ]
    }
   ],
   "source": [
    "camera_manager.run()"
   ]
  },
  {
   "cell_type": "markdown",
   "metadata": {},
   "source": [
    "## Extend database with augmentations"
   ]
  },
  {
   "cell_type": "code",
   "execution_count": 8,
   "metadata": {},
   "outputs": [
    {
     "name": "stderr",
     "output_type": "stream",
     "text": [
      "INFO:root:Processing 002.png in cam_0_left\n",
      "INFO:root:Augmenting 002.png. Iteration: 0\n",
      "INFO:root:Iter. 0: 002.png - RGB vals: R: 1.085, G: 0.818, B: 0.816\n",
      "INFO:root:Iter. 0: 002.png - Exposure: 1.9795447829937731\n",
      "INFO:root:Iter. 0: 002.png - Rotation: 3.027464487956358\n",
      "INFO:root:Iter. 0: 002.png - Mirrored: False\n",
      "INFO:root:Iter. 0: 002.png - Perspect: [[1.065086  0.        0.       ]\n",
      " [0.        1.0714806 0.       ]]\n",
      "INFO:root:Iter. 0: 002.png - Blur rad: 0.00379\n",
      "INFO:root:Augmenting 002.png. Iteration: 1\n",
      "INFO:root:Iter. 1: 002.png - RGB vals: R: 1.143, G: 0.861, B: 0.975\n",
      "INFO:root:Iter. 1: 002.png - Exposure: 1.8499672809228502\n",
      "INFO:root:Iter. 1: 002.png - Rotation: -5.538327791863528\n",
      "INFO:root:Iter. 1: 002.png - Mirrored: False\n",
      "INFO:root:Iter. 1: 002.png - Perspect: [[1.1567314 0.        0.       ]\n",
      " [0.        0.9718698 0.       ]]\n",
      "INFO:root:Iter. 1: 002.png - Blur rad: 0.97551\n",
      "INFO:root:Augmenting 002.png. Iteration: 2\n",
      "INFO:root:Iter. 2: 002.png - RGB vals: R: 1.078, G: 0.984, B: 0.846\n",
      "INFO:root:Iter. 2: 002.png - Exposure: 1.4120599325030017\n",
      "INFO:root:Iter. 2: 002.png - Rotation: -2.9562387399683843\n",
      "INFO:root:Iter. 2: 002.png - Mirrored: False\n",
      "INFO:root:Iter. 2: 002.png - Perspect: [[1.0763187 0.        0.       ]\n",
      " [0.        1.0585146 0.       ]]\n"
     ]
    },
    {
     "name": "stdout",
     "output_type": "stream",
     "text": [
      "augment_images_running\n",
      "Resolution set to: (480, 640)\n",
      "002.png\n"
     ]
    },
    {
     "name": "stderr",
     "output_type": "stream",
     "text": [
      "INFO:root:Iter. 2: 002.png - Blur rad: 0.63944\n",
      "INFO:root:Processing 001.png in cam_0_left\n"
     ]
    },
    {
     "name": "stdout",
     "output_type": "stream",
     "text": [
      "Image shape: (480, 640, 3)\n",
      "Resolution: (480, 640)\n"
     ]
    },
    {
     "name": "stderr",
     "output_type": "stream",
     "text": [
      "INFO:root:Augmenting 001.png. Iteration: 0\n",
      "INFO:root:Iter. 0: 001.png - RGB vals: R: 1.030, G: 0.959, B: 1.017\n",
      "INFO:root:Iter. 0: 001.png - Exposure: 1.5733777585993856\n",
      "INFO:root:Iter. 0: 001.png - Rotation: -5.471207019151354\n",
      "INFO:root:Iter. 0: 001.png - Mirrored: False\n",
      "INFO:root:Iter. 0: 001.png - Perspect: [[0.9990018 0.        0.       ]\n",
      " [0.        1.0735725 0.       ]]\n",
      "INFO:root:Iter. 0: 001.png - Blur rad: 0.89139\n",
      "INFO:root:Augmenting 001.png. Iteration: 1\n",
      "INFO:root:Iter. 1: 001.png - RGB vals: R: 1.049, G: 0.845, B: 0.854\n",
      "INFO:root:Iter. 1: 001.png - Exposure: 1.8874571558713766\n",
      "INFO:root:Iter. 1: 001.png - Rotation: 4.362388014604619\n",
      "INFO:root:Iter. 1: 001.png - Mirrored: False\n",
      "INFO:root:Iter. 1: 001.png - Perspect: [[0.89692193 0.         0.        ]\n",
      " [0.         0.8424166  0.        ]]\n",
      "INFO:root:Iter. 1: 001.png - Blur rad: 0.15164\n",
      "INFO:root:Augmenting 001.png. Iteration: 2\n",
      "INFO:root:Iter. 2: 001.png - RGB vals: R: 1.033, G: 1.018, B: 0.930\n",
      "INFO:root:Iter. 2: 001.png - Exposure: 1.9481318703910735\n",
      "INFO:root:Iter. 2: 001.png - Rotation: 5.326777916652837\n",
      "INFO:root:Iter. 2: 001.png - Mirrored: False\n",
      "INFO:root:Iter. 2: 001.png - Perspect: [[0.9677751 0.        0.       ]\n",
      " [0.        1.1007245 0.       ]]\n",
      "INFO:root:Iter. 2: 001.png - Blur rad: 0.07604\n",
      "INFO:root:Processing 000.png in cam_0_left\n",
      "INFO:root:Augmenting 000.png. Iteration: 0\n",
      "INFO:root:Iter. 0: 000.png - RGB vals: R: 1.059, G: 0.907, B: 0.848\n",
      "INFO:root:Iter. 0: 000.png - Exposure: 1.8175622430856235\n",
      "INFO:root:Iter. 0: 000.png - Rotation: 2.1787898888823385\n",
      "INFO:root:Iter. 0: 000.png - Mirrored: True\n",
      "INFO:root:Iter. 0: 000.png - Perspect: [[1.0576884 0.        0.       ]\n",
      " [0.        1.108261  0.       ]]\n",
      "INFO:root:Iter. 0: 000.png - Blur rad: 0.62307\n",
      "INFO:root:Augmenting 000.png. Iteration: 1\n"
     ]
    },
    {
     "name": "stdout",
     "output_type": "stream",
     "text": [
      "Resolution set to: (480, 640)\n",
      "001.png\n",
      "Image shape: (480, 640, 3)\n",
      "Resolution: (480, 640)\n",
      "Resolution set to: (480, 640)\n",
      "000.png\n"
     ]
    },
    {
     "name": "stderr",
     "output_type": "stream",
     "text": [
      "INFO:root:Iter. 1: 000.png - RGB vals: R: 1.128, G: 0.975, B: 0.850\n",
      "INFO:root:Iter. 1: 000.png - Exposure: 1.5286170777298331\n",
      "INFO:root:Iter. 1: 000.png - Rotation: -2.8386081018328024\n",
      "INFO:root:Iter. 1: 000.png - Mirrored: True\n",
      "INFO:root:Iter. 1: 000.png - Perspect: [[0.8520614 0.        0.       ]\n",
      " [0.        1.0617168 0.       ]]\n",
      "INFO:root:Iter. 1: 000.png - Blur rad: 0.54867\n",
      "INFO:root:Augmenting 000.png. Iteration: 2\n",
      "INFO:root:Iter. 2: 000.png - RGB vals: R: 1.105, G: 0.991, B: 0.992\n",
      "INFO:root:Iter. 2: 000.png - Exposure: 1.8095612143958806\n",
      "INFO:root:Iter. 2: 000.png - Rotation: 0.3822001164973017\n",
      "INFO:root:Iter. 2: 000.png - Mirrored: True\n",
      "INFO:root:Iter. 2: 000.png - Perspect: [[1.0410876 0.        0.       ]\n",
      " [0.        1.1638553 0.       ]]\n",
      "INFO:root:Iter. 2: 000.png - Blur rad: 0.44413\n"
     ]
    },
    {
     "name": "stdout",
     "output_type": "stream",
     "text": [
      "Image shape: (480, 640, 3)\n",
      "Resolution: (480, 640)\n",
      "Data augmentation complete.\n"
     ]
    }
   ],
   "source": [
    "from augment import DataAugmenter # Should be called augmentOR?\n",
    "augmenter = DataAugmenter(CAPTURE_OBJECT_NAME, temperature=10, logging_enabled=False)\n",
    "augmenter.augment_images()  # Pass selected_images if needed"
   ]
  }
 ],
 "metadata": {
  "kernelspec": {
   "display_name": "Python 3",
   "language": "python",
   "name": "python3"
  },
  "language_info": {
   "codemirror_mode": {
    "name": "ipython",
    "version": 3
   },
   "file_extension": ".py",
   "mimetype": "text/x-python",
   "name": "python",
   "nbconvert_exporter": "python",
   "pygments_lexer": "ipython3",
   "version": "3.10.10"
  }
 },
 "nbformat": 4,
 "nbformat_minor": 2
}
